{
 "cells": [
  {
   "cell_type": "code",
   "execution_count": 1,
   "metadata": {},
   "outputs": [
    {
     "name": "stdout",
     "output_type": "stream",
     "text": [
      "This company name has length of: 6\n",
      "This company name has length of: 5\n",
      "This company name has length of: 21\n",
      "This company name has length of: 18\n",
      "This company name has length of: 11\n",
      "This company name has length of: 7\n",
      "     \n",
      "This company name has a length of: 6\n",
      "This company name has a length of: 21\n",
      "This company name has a length of: 11\n",
      "      \n",
      "1\n",
      "2\n",
      "3\n",
      "4\n",
      "5\n",
      "6\n",
      "7\n",
      "8\n",
      "9\n",
      "10\n"
     ]
    }
   ],
   "source": [
    "#using break and continue within loops\n",
    "companies = [['Google', 'Facebook', 'Apple'],\n",
    "            ['Warner Bros. Pictures', '20th Century Fox', 'Universal Pictures'],\n",
    "            ['Whole foods', 'Starbucks', 'Walmart']]\n",
    "\n",
    "\n",
    "for x in range(len(companies)):\n",
    "    for y in range(len(companies[x])):\n",
    "        if y == 1:\n",
    "            continue\n",
    "        else:\n",
    "            print(\"This company name has length of:\" + \" \" + str(len(companies[x][y])))\n",
    "\n",
    "print(\"     \")\n",
    "        \n",
    "for x in range(len(companies)):\n",
    "    for y in range(len(companies[x])):\n",
    "        if y == 1:\n",
    "            break\n",
    "        else:\n",
    "            print(\"This company name has a length of:\" + \" \"+ str(len(companies[x][y])))\n",
    "            \n",
    "            \n",
    "print(\"      \")\n",
    "start_number = 0\n",
    "end_number = 10\n",
    "\n",
    "while start_number != end_number:\n",
    "    start_number += 1\n",
    "    print(start_number)\n",
    "\n"
   ]
  },
  {
   "cell_type": "code",
   "execution_count": 37,
   "metadata": {},
   "outputs": [],
   "source": [
    "def median(numbers):\n",
    "    if len(numbers) < 1:\n",
    "        return None\n",
    "    elif len(numbers) % 2 == 1:\n",
    "        return sorted(numbers)[int(len(numbers)/2)]\n",
    "    else:\n",
    "        return float(sorted(numbers)[int(len(numbers)/2) - 1] + sorted(numbers)[int(len(numbers) / 2)]) / 2"
   ]
  },
  {
   "cell_type": "code",
   "execution_count": 45,
   "metadata": {},
   "outputs": [],
   "source": [
    "numbers = [3, 4, 6, 2, 1, 2, 2]"
   ]
  },
  {
   "cell_type": "markdown",
   "metadata": {},
   "source": [
    "## Unit 3 Challenge, Recommender System"
   ]
  },
  {
   "cell_type": "code",
   "execution_count": 16,
   "metadata": {},
   "outputs": [],
   "source": [
    "#Given movies dataset\n",
    "movies_dataset = {\"movies\": [\"LOTR 1\", \"Godfather 2\", \"Harry Potter\"], \n",
    "\t\t\t\t  \"ratings\": [5.0, 4.9, 4.8], \n",
    "\t\t\t\t  \"views\":[10000, 23011, 31521],\n",
    "\t\t\t\t  \"tags\":[['sci-fi', 'action'], ['crime', 'action'], ['sci-fi']]}\n",
    "\n",
    "\n",
    "\t\t\t\t\t\n",
    "def recommend_similar_movies():\n",
    "\n",
    "\tmovies = movies_dataset['movies']\n",
    "\n",
    "\tprint(\"You watched: \")\n",
    "\tfor i in range(len(movies)):\n",
    "\t\tprint(i, \" \", movies[i])\n",
    "        \n",
    "    #Do not change code above this line\n",
    "    \n",
    "\tmovie_id = ________ #Get user input\n",
    "\tmovie_id = ________ #Convert id to integer Remember IDs in Python starts from 0, not from 1\n",
    "\n",
    "\ttags = __________ #Access movie tags from the movies dictionary\n",
    "\tquery_movie_tags = ________ #Get tags for the watched (query) movie\n",
    "\n",
    "\tsimilar_movies = []\n",
    "\n",
    "\tfor i in range(len(movies)):\n",
    "\n",
    "\t\tif ________: #Check if counter is different from the choosen movie_id\n",
    "\t\t\tfor tag in tags[i]:\n",
    "\t\t\t\tif tag in query_movie_tags:\n",
    "\t\t\t\t\t_____________________ #If tag is in tags for the watched movie, add it to the current movie to the similar_movies list\n",
    "\n",
    "\treturn similar_movies\n",
    "\n",
    "# Do not change code below this line\n",
    "print(recommend_similar_movies())\n"
   ]
  },
  {
   "cell_type": "markdown",
   "metadata": {},
   "source": [
    "## Answer:"
   ]
  },
  {
   "cell_type": "code",
   "execution_count": 15,
   "metadata": {},
   "outputs": [
    {
     "name": "stdout",
     "output_type": "stream",
     "text": [
      "You watched: \n",
      "0   LOTR 1\n",
      "1   Godfather 2\n",
      "2   Harry Potter\n"
     ]
    },
    {
     "name": "stdin",
     "output_type": "stream",
     "text": [
      "movie ID 1\n"
     ]
    },
    {
     "name": "stdout",
     "output_type": "stream",
     "text": [
      "['LOTR 1']\n"
     ]
    }
   ],
   "source": [
    "#Given movies dataset\n",
    "movies_dataset = {\"movies\": [\"LOTR 1\", \"Godfather 2\", \"Harry Potter\"], \n",
    "\t\t\t\t  \"ratings\": [5.0, 4.9, 4.8], \n",
    "\t\t\t\t  \"views\":[10000, 23011, 31521],\n",
    "\t\t\t\t  \"tags\":[['sci-fi', 'action'], ['crime', 'action'], ['sci-fi']]}\n",
    "\n",
    "\n",
    "\t\t\t\t\t\n",
    "def recommend_similar_movies():\n",
    "\n",
    "\tmovies = movies_dataset['movies']\n",
    "\n",
    "\tprint(\"You watched: \")\n",
    "\tfor i in range(len(movies)):\n",
    "\t\tprint(i, \" \", movies[i])\n",
    "        \n",
    "    #Do not change code above this line\n",
    "    \n",
    "\tmovie_id = input(\"movie ID\") #Get user input\n",
    "\tmovie_id = int(movie_id) #Convert id to integer Remember IDs in Python starts from 0, not from 1\n",
    "\n",
    "\ttags = movies_dataset['tags'] #Access movie tags from the movies dictionary\n",
    "\tquery_movie_tags = tags[movie_id] #Get tags for the watched (query) movie\n",
    "\n",
    "\tsimilar_movies = []\n",
    "\n",
    "\tfor i in range(len(movies)):\n",
    "\n",
    "\t\tif i != movie_id: #Check if counter is different from the choosen movie_id\n",
    "\t\t\tfor tag in tags[i]:\n",
    "\t\t\t\tif tag in query_movie_tags:\n",
    "\t\t\t\t\tsimilar_movies.append(movies[i]) #If tag is in tags for the watched movie, add it to the current movie to the similar_movies list\n",
    "\n",
    "\treturn similar_movies\n",
    "\n",
    "# Do not change code below this line\n",
    "print(recommend_similar_movies())\n"
   ]
  },
  {
   "cell_type": "code",
   "execution_count": 56,
   "metadata": {},
   "outputs": [
    {
     "name": "stdout",
     "output_type": "stream",
     "text": [
      "Awesome job!\n",
      "gnimmargorp\n"
     ]
    }
   ],
   "source": [
    "# reverse a word and create a new list\n",
    "#All function that you have implemented in the previous steps\n",
    "def push(stack, new_item):\n",
    "\tstack.append(new_item)\n",
    "\n",
    "def is_empty(stack):\n",
    "\treturn stack == []\n",
    "\n",
    "def size(stack):\n",
    "    return len(stack)\n",
    "\n",
    "#Do not change any code above this line.\n",
    "\n",
    "\n",
    "def reverse_string(string):\n",
    "    #We have defined the stack for you\n",
    "    stack = []\n",
    "    \n",
    "    for char in string:\n",
    "        push(stack, char) #push to stack\n",
    "\n",
    "    new_string = \"\"\n",
    "\n",
    "    while not is_empty(stack): #Check if the stack is empty\n",
    "        new_string += \"\" + stack.pop(-1) #pop the last element\n",
    "\n",
    "    return new_string\n",
    "\n",
    "\n",
    "#Tests\n",
    "#Do not change code below this line\n",
    "assert reverse_string(\"programming\") == \"gnimmargorp\"\n",
    "print(\"Awesome job!\")\n",
    "print(reverse_string(\"programming\"))"
   ]
  },
  {
   "cell_type": "code",
   "execution_count": 57,
   "metadata": {},
   "outputs": [
    {
     "data": {
      "text/plain": [
       "'detinu'"
      ]
     },
     "execution_count": 57,
     "metadata": {},
     "output_type": "execute_result"
    }
   ],
   "source": [
    "reverse_string('united')"
   ]
  },
  {
   "cell_type": "markdown",
   "metadata": {},
   "source": [
    "## Last In First Out/First In First Out Exercise\n",
    "- taking the last person and deleting them from a list"
   ]
  },
  {
   "cell_type": "code",
   "execution_count": 61,
   "metadata": {},
   "outputs": [
    {
     "name": "stdout",
     "output_type": "stream",
     "text": [
      "Luka\n"
     ]
    }
   ],
   "source": [
    "#Functions that you have implemented in the Queue section\n",
    "\n",
    "def enqueue(queue, new_item):\n",
    "\tqueue.append(new_item)\n",
    "\n",
    "def dequeue(queue):\n",
    "    #We have added return here, just to return the item that is being removed\n",
    "\treturn queue.pop(0)\n",
    "    \n",
    "def is_empty(queue):\n",
    "\treturn len(queue) == 0\n",
    "\n",
    "def size(queue):\n",
    "    return len(queue)\n",
    "\n",
    "# Do not change code above this line\n",
    "\n",
    "def hot_potato_simulator(players, turns):\n",
    "    hot_potato_queue = [] \n",
    "    \n",
    "    for player in players:\n",
    "        enqueue(hot_potato_queue, player) #Using enqueue function add a player to the queue\n",
    "\n",
    "    while size(hot_potato_queue) > 1: #Using size function check how many elements are there in the queue\n",
    "        \n",
    "        for i in range(turns):\n",
    "            \n",
    "            enqueue(hot_potato_queue, dequeue(hot_potato_queue)) #Enqueue the last first element from the queue to the end\n",
    "\n",
    "        dequeue(hot_potato_queue) # Dequeue the HOT POTATO player\n",
    "\n",
    "    return dequeue(hot_potato_queue) #Dequeue last element from the queue (The winner)\n",
    "\n",
    "\n",
    "## Do not change code below this line\n",
    "players = [\"Peter\", \"John\", \"Luka\", \"Maria\", \"Sophia\", \"Derek\"]\n",
    "turns = 11\n",
    "print(hot_potato_simulator(players, turns))"
   ]
  },
  {
   "cell_type": "code",
   "execution_count": 82,
   "metadata": {},
   "outputs": [],
   "source": [
    "#print a list of odd numbers between 2 numbers, didn't work in hacker rank though,\n",
    "# works fine here\n",
    "def oddNumbers(l, r):\n",
    "    for num in range(l, r + 1, 1):\n",
    "        if num % 2 != 0:\n",
    "            print(num)"
   ]
  },
  {
   "cell_type": "code",
   "execution_count": 83,
   "metadata": {},
   "outputs": [
    {
     "name": "stdout",
     "output_type": "stream",
     "text": [
      "3\n",
      "5\n",
      "7\n",
      "9\n",
      "11\n",
      "13\n"
     ]
    }
   ],
   "source": [
    "oddNumbers(2, 13)"
   ]
  },
  {
   "cell_type": "code",
   "execution_count": 162,
   "metadata": {},
   "outputs": [],
   "source": [
    "def findNumber(arr, k):\n",
    "    if k in arr:\n",
    "        print('Yes')\n",
    "    else:\n",
    "        print('No')"
   ]
  },
  {
   "cell_type": "code",
   "execution_count": 163,
   "metadata": {},
   "outputs": [],
   "source": [
    "arr = [1, 2, 3, 4]"
   ]
  },
  {
   "cell_type": "code",
   "execution_count": 165,
   "metadata": {},
   "outputs": [
    {
     "name": "stdout",
     "output_type": "stream",
     "text": [
      "No\n"
     ]
    }
   ],
   "source": [
    "findNumber(arr, 33)"
   ]
  },
  {
   "cell_type": "markdown",
   "metadata": {},
   "source": [
    "# Brute Search Algorithm"
   ]
  },
  {
   "cell_type": "code",
   "execution_count": 166,
   "metadata": {},
   "outputs": [
    {
     "name": "stdout",
     "output_type": "stream",
     "text": [
      "True\n"
     ]
    }
   ],
   "source": [
    "def search(numbers, query_number):\n",
    "    found_number = False\n",
    "    \n",
    "    for number in numbers:\n",
    "        if number == query_number:\n",
    "            found_number = True\n",
    "            break\n",
    "            \n",
    "    return found_number\n",
    "\n",
    "\n",
    "# Don't change code below this line\n",
    "query_number = 3\n",
    "numbers = [40, 512, 31, 3, 50, 610, 2]\n",
    "print(search(numbers, query_number))"
   ]
  },
  {
   "cell_type": "code",
   "execution_count": 167,
   "metadata": {},
   "outputs": [],
   "source": [
    "def findNumber(arr, k): \n",
    "    a = []\n",
    "    if k in arr:\n",
    "        a.append('YES')\n",
    "    else:\n",
    "        a.append('NO')\n",
    "    return a"
   ]
  },
  {
   "cell_type": "code",
   "execution_count": 168,
   "metadata": {},
   "outputs": [
    {
     "data": {
      "text/plain": [
       "['NO']"
      ]
     },
     "execution_count": 168,
     "metadata": {},
     "output_type": "execute_result"
    }
   ],
   "source": [
    "arr = [6, 7, 4, 3, 2, 3]\n",
    "findNumber(arr, 44)"
   ]
  },
  {
   "cell_type": "code",
   "execution_count": 169,
   "metadata": {},
   "outputs": [
    {
     "data": {
      "text/plain": [
       "['YES']"
      ]
     },
     "execution_count": 169,
     "metadata": {},
     "output_type": "execute_result"
    }
   ],
   "source": [
    "findNumber(arr, 6)"
   ]
  },
  {
   "cell_type": "markdown",
   "metadata": {},
   "source": [
    "# Task\n",
    "Given an integer, , perform the following conditional actions:\n",
    "\n",
    "If n is odd, print Weird\n",
    "If n is even and in the inclusive range of 2 to 5, print Not Weird\n",
    "If n is even and in the inclusive range of 6 to 20, print Weird\n",
    "If n is even and greater than 20, print Not Weird'"
   ]
  },
  {
   "cell_type": "code",
   "execution_count": null,
   "metadata": {},
   "outputs": [],
   "source": [
    "\n",
    "import math\n",
    "import os\n",
    "import random\n",
    "import re\n",
    "import sys\n",
    "\n",
    "\n",
    "\n",
    "if __name__ == '__main__':\n",
    "    n = int(input().strip())\n",
    "    if n % 2 == 0 and (n >= 2 and n <= 5):\n",
    "        print('Not Weird')\n",
    "    elif n % 2 == 0 and n > 20:\n",
    "        print('Not Weird')\n",
    "    else:\n",
    "        print('Weird')\n"
   ]
  },
  {
   "cell_type": "markdown",
   "metadata": {},
   "source": [
    "## Read an integer n. For all non-negative integers while i < n, print i^2. See the sample for details."
   ]
  },
  {
   "cell_type": "code",
   "execution_count": 2,
   "metadata": {},
   "outputs": [
    {
     "name": "stdin",
     "output_type": "stream",
     "text": [
      " 7\n"
     ]
    },
    {
     "name": "stdout",
     "output_type": "stream",
     "text": [
      "0\n",
      "1\n",
      "4\n",
      "9\n",
      "16\n",
      "25\n",
      "36\n",
      "49\n"
     ]
    }
   ],
   "source": [
    "if __name__ == '__main__':\n",
    "    n = int(input())\n",
    "  \n",
    "    counter = 0\n",
    "    for counter in range(0, n + 1):\n",
    "        a = counter*counter\n",
    "        print(a)"
   ]
  },
  {
   "cell_type": "markdown",
   "metadata": {},
   "source": [
    "# Leap Year Function\n",
    "- you must create a function that will tell if a year is a leap year from standard input"
   ]
  },
  {
   "cell_type": "code",
   "execution_count": 23,
   "metadata": {},
   "outputs": [
    {
     "name": "stdin",
     "output_type": "stream",
     "text": [
      " 4500\n"
     ]
    },
    {
     "name": "stdout",
     "output_type": "stream",
     "text": [
      "False\n"
     ]
    }
   ],
   "source": [
    "def is_leap(year):\n",
    "    return year % 4 == 0 and (year % 100 != 0 or year % 400 == 0)\n",
    "\n",
    "year = int(input())\n",
    "print(is_leap(year))"
   ]
  },
  {
   "cell_type": "markdown",
   "metadata": {},
   "source": [
    "## Integer print out (i.e. 3 = 123)\n",
    "Read an integer n\n",
    "\n",
    "Without using any string methods, try to print the following: 1, 2, 3.......n\n",
    "\n",
    "\n",
    "Note that \"...\" represents the values in between."
   ]
  },
  {
   "cell_type": "code",
   "execution_count": 62,
   "metadata": {},
   "outputs": [
    {
     "name": "stdin",
     "output_type": "stream",
     "text": [
      " 4\n"
     ]
    },
    {
     "name": "stdout",
     "output_type": "stream",
     "text": [
      "1234"
     ]
    }
   ],
   "source": [
    "if __name__ == '__main__':\n",
    "    n = int(input())\n",
    "    counter = 0\n",
    "    for counter in range(1, n + 1):\n",
    "        print(counter, end = \"\")"
   ]
  },
  {
   "cell_type": "markdown",
   "metadata": {},
   "source": [
    "## Create a function that converts a single line of date MM DD YYYY to the day of the week, i.e. 'WEDNESDAY' in caps"
   ]
  },
  {
   "cell_type": "code",
   "execution_count": 12,
   "metadata": {},
   "outputs": [
    {
     "name": "stdout",
     "output_type": "stream",
     "text": [
      "                                  2015\n",
      "\n",
      "      January                   February                   March\n",
      "Su Mo Tu We Th Fr Sa      Su Mo Tu We Th Fr Sa      Su Mo Tu We Th Fr Sa\n",
      "             1  2  3       1  2  3  4  5  6  7       1  2  3  4  5  6  7\n",
      " 4  5  6  7  8  9 10       8  9 10 11 12 13 14       8  9 10 11 12 13 14\n",
      "11 12 13 14 15 16 17      15 16 17 18 19 20 21      15 16 17 18 19 20 21\n",
      "18 19 20 21 22 23 24      22 23 24 25 26 27 28      22 23 24 25 26 27 28\n",
      "25 26 27 28 29 30 31                                29 30 31\n",
      "\n",
      "       April                      May                       June\n",
      "Su Mo Tu We Th Fr Sa      Su Mo Tu We Th Fr Sa      Su Mo Tu We Th Fr Sa\n",
      "          1  2  3  4                      1  2          1  2  3  4  5  6\n",
      " 5  6  7  8  9 10 11       3  4  5  6  7  8  9       7  8  9 10 11 12 13\n",
      "12 13 14 15 16 17 18      10 11 12 13 14 15 16      14 15 16 17 18 19 20\n",
      "19 20 21 22 23 24 25      17 18 19 20 21 22 23      21 22 23 24 25 26 27\n",
      "26 27 28 29 30            24 25 26 27 28 29 30      28 29 30\n",
      "                          31\n",
      "\n",
      "        July                     August                  September\n",
      "Su Mo Tu We Th Fr Sa      Su Mo Tu We Th Fr Sa      Su Mo Tu We Th Fr Sa\n",
      "          1  2  3  4                         1             1  2  3  4  5\n",
      " 5  6  7  8  9 10 11       2  3  4  5  6  7  8       6  7  8  9 10 11 12\n",
      "12 13 14 15 16 17 18       9 10 11 12 13 14 15      13 14 15 16 17 18 19\n",
      "19 20 21 22 23 24 25      16 17 18 19 20 21 22      20 21 22 23 24 25 26\n",
      "26 27 28 29 30 31         23 24 25 26 27 28 29      27 28 29 30\n",
      "                          30 31\n",
      "\n",
      "      October                   November                  December\n",
      "Su Mo Tu We Th Fr Sa      Su Mo Tu We Th Fr Sa      Su Mo Tu We Th Fr Sa\n",
      "             1  2  3       1  2  3  4  5  6  7             1  2  3  4  5\n",
      " 4  5  6  7  8  9 10       8  9 10 11 12 13 14       6  7  8  9 10 11 12\n",
      "11 12 13 14 15 16 17      15 16 17 18 19 20 21      13 14 15 16 17 18 19\n",
      "18 19 20 21 22 23 24      22 23 24 25 26 27 28      20 21 22 23 24 25 26\n",
      "25 26 27 28 29 30 31      29 30                     27 28 29 30 31\n",
      "\n"
     ]
    }
   ],
   "source": [
    "import calendar\n",
    "print(calendar.TextCalendar(firstweekday=6).formatyear(2015))"
   ]
  },
  {
   "cell_type": "code",
   "execution_count": 29,
   "metadata": {},
   "outputs": [
    {
     "name": "stdin",
     "output_type": "stream",
     "text": [
      " 09 08 1999\n"
     ]
    },
    {
     "name": "stdout",
     "output_type": "stream",
     "text": [
      "Monday\n"
     ]
    }
   ],
   "source": [
    "import calendar\n",
    "import datetime \n",
    "\n",
    "\n",
    "def findDay(date): \n",
    "    date = datetime.datetime.strptime(date, '%d %m %Y').weekday() \n",
    "    return (calendar.day_name[date])\n",
    "\n",
    "date = input()\n",
    "print(findDay(date))"
   ]
  },
  {
   "cell_type": "markdown",
   "metadata": {},
   "source": [
    "# Binary Search "
   ]
  },
  {
   "cell_type": "markdown",
   "metadata": {},
   "source": [
    "When using the brute-force search, you have to compare an element against all the items in a list until you've found the query item. However, when you've already sorted the list you're working with, you can make smarter and faster algorithms. One such algorithm is the Binary Search.\n",
    "\n",
    "Instead of searching the list in sequence, a binary search will start by examining the middle item. If that item is the one you're searching for, you're done. If it's not the correct item, you can use the sorted property of the input list to eliminate half of the remaining items. If the item you're searching for is greater than the middle item, you can safely assume that the entire lower half of the sorted list, as well as the middle item, can be eliminated from the rest of your search. The algorithm determines that the item (if it's in the list at all) must be located in the upper half of the list.\n",
    "\n",
    "You can then repeat this process with the upper half of the list — start at the middle item and compate it with the item you're looking for. Again, you'll either find the item, or split the list in half, further reducing the number of elements in the list you'll need to search through.\n",
    "\n",
    "By repeating this process, you'll either find the query item or run out of elements that you can compare your element to.\n",
    "\n",
    "Step 1:\n",
    "Find the middle element by splitting the length of the array in half. middle = 14\n",
    "\n",
    "Check if the query item is equal to the middle item: 1 = 14? Because this is not true, check to see if the query item is less than the middle element: 1 < 14? Because the answer to this is yes, you can eliminate the right side of the array [51, 60]. After this step, you're left with the left side, which just so happens to be [1, 5].\n",
    "\n",
    "Step 2:\n",
    "\n",
    "Find the middle element of the left side. Because there are only two elements on the left side, the middle number becomes the lower number (or index 0). middle = 1\n",
    "\n",
    "Check if the query item is equal to the middle item: 1=1? The answer is yes, which means that you can finish your search and return True.\n",
    "\n",
    "Ready to try a binary search on your own? You've got this!"
   ]
  },
  {
   "cell_type": "code",
   "execution_count": 31,
   "metadata": {},
   "outputs": [
    {
     "name": "stdout",
     "output_type": "stream",
     "text": [
      "True\n",
      "False\n"
     ]
    }
   ],
   "source": [
    "def binary_search(list_of_numbers, query_item):\n",
    "    #Set index of the first item in the list and an index of the last item in the list\n",
    "    index_first = 0\n",
    "    index_last = len(list_of_numbers)-1\n",
    "    #Set the found variable to False\n",
    "    found = False\n",
    "\n",
    "    while index_first <= index_last and not found: #Check if the index_first is less than or equal to the index_last\n",
    "        \n",
    "        middle_index = (index_first + index_last)//2 #using index_first and index_last find the middle index\n",
    "\n",
    "        if query_item == list_of_numbers[middle_index]: #Check if the middle element is equal to the query_item     \n",
    "            found = True\n",
    "            break\n",
    "        else:\n",
    "            if query_item < list_of_numbers[middle_index]:\n",
    "\t            index_last = middle_index - 1 #If the query_item is less than the middle item, use the index_last to eliminate the upper part of the list\n",
    "            else:\n",
    "                index_first = middle_index + 1\n",
    "    \n",
    "    #Return the found boolean variable\n",
    "    return found\n",
    "\n",
    "#Do not change code below this line\n",
    "test_list = [4, 13, 22, 28, 34, 117, 943, 1032, 4222]\n",
    "print(binary_search(test_list, 4222))\n",
    "print(binary_search(test_list, 33))\n"
   ]
  },
  {
   "cell_type": "markdown",
   "metadata": {},
   "source": [
    "## Hackerrank practice test cases"
   ]
  },
  {
   "cell_type": "code",
   "execution_count": 20,
   "metadata": {},
   "outputs": [],
   "source": [
    "# given an array, print out yes or no if the number k is in the arr\n",
    "def find_number(arr, k):\n",
    "    if k in arr:\n",
    "        return 'YES'\n",
    "    else:\n",
    "        return 'NO'\n",
    "    return"
   ]
  },
  {
   "cell_type": "code",
   "execution_count": 23,
   "metadata": {},
   "outputs": [],
   "source": [
    "arr = 2, 4, 5"
   ]
  },
  {
   "cell_type": "code",
   "execution_count": 24,
   "metadata": {},
   "outputs": [
    {
     "name": "stdout",
     "output_type": "stream",
     "text": [
      "YES\n"
     ]
    }
   ],
   "source": [
    "find_number(arr, 5)"
   ]
  },
  {
   "cell_type": "code",
   "execution_count": 14,
   "metadata": {},
   "outputs": [],
   "source": [
    "#print out all odd numbers in a range\n",
    "def oddNumbers(l, r):\n",
    "    for x in range(l, r + 1):\n",
    "        if x % 2 != 0:\n",
    "            print(x)"
   ]
  },
  {
   "cell_type": "code",
   "execution_count": 16,
   "metadata": {},
   "outputs": [
    {
     "name": "stdout",
     "output_type": "stream",
     "text": [
      "1\n",
      "3\n",
      "5\n",
      "7\n"
     ]
    }
   ],
   "source": [
    "oddNumbers(1, 7)"
   ]
  },
  {
   "cell_type": "code",
   "execution_count": 15,
   "metadata": {},
   "outputs": [],
   "source": [
    "def oddNumbers(l, r):\n",
    "    for i in range(l, r + 1):\n",
    "        if i % 2 != 0:\n",
    "            print(i)"
   ]
  },
  {
   "cell_type": "code",
   "execution_count": 16,
   "metadata": {},
   "outputs": [
    {
     "name": "stdout",
     "output_type": "stream",
     "text": [
      "1\n",
      "3\n",
      "5\n",
      "7\n",
      "9\n"
     ]
    }
   ],
   "source": [
    "oddNumbers(1, 10)"
   ]
  },
  {
   "cell_type": "markdown",
   "metadata": {},
   "source": [
    "## This is how you have to solve this \"oddNumbers\" problem in hackerrank"
   ]
  },
  {
   "cell_type": "code",
   "execution_count": 24,
   "metadata": {},
   "outputs": [],
   "source": [
    "def oddNumbers(l, r):\n",
    "    return [x for x in range(l, r + 1) if x % 2 == 1]"
   ]
  },
  {
   "cell_type": "code",
   "execution_count": 25,
   "metadata": {},
   "outputs": [
    {
     "data": {
      "text/plain": [
       "[3, 5, 7, 9]"
      ]
     },
     "execution_count": 25,
     "metadata": {},
     "output_type": "execute_result"
    }
   ],
   "source": [
    "oddNumbers(3, 9)"
   ]
  },
  {
   "cell_type": "markdown",
   "metadata": {},
   "source": [
    "## Max diff"
   ]
  },
  {
   "cell_type": "code",
   "execution_count": 85,
   "metadata": {},
   "outputs": [],
   "source": [
    "def maxDiff(a):\n",
    "    vmin = a[0]\n",
    "    dmax = 0\n",
    "    for i in range(len(a)):\n",
    "        if (a[i] < vmin):\n",
    "            vmin = a[i]\n",
    "        elif (a[i] - vmin > dmax):\n",
    "            dmax = a[i] - vmin\n",
    "    return dmax"
   ]
  },
  {
   "cell_type": "code",
   "execution_count": 87,
   "metadata": {},
   "outputs": [
    {
     "data": {
      "text/plain": [
       "6"
      ]
     },
     "execution_count": 87,
     "metadata": {},
     "output_type": "execute_result"
    }
   ],
   "source": [
    "a = 7, 8, 9, 13\n",
    "maxDiff(a)"
   ]
  },
  {
   "cell_type": "code",
   "execution_count": null,
   "metadata": {},
   "outputs": [],
   "source": [
    "from itertools import combinations\n",
    "phrase = int(input())\n",
    "frustrated = max(combinations(phrase, 2), key = lambda x: abs(x[0]-x[1]))\n",
    "print(str(frustrated))"
   ]
  },
  {
   "cell_type": "markdown",
   "metadata": {},
   "source": [
    "## This is how I solved the max abs diff problem in hackerrank, but not with STDIN"
   ]
  },
  {
   "cell_type": "code",
   "execution_count": null,
   "metadata": {},
   "outputs": [],
   "source": [
    "def max_array_diff(phrase):\n",
    "    tired = max(combinations(phrase, 2), key = lamda x: abs(x[0] - x[1]))\n",
    "    return str(tired)"
   ]
  },
  {
   "cell_type": "markdown",
   "metadata": {},
   "source": [
    "## Bubble Sort Algorithm"
   ]
  },
  {
   "cell_type": "markdown",
   "metadata": {},
   "source": [
    "I had list_of_numbers[i] > list_of_numbers[j] for a while, this was wrong, so I replaced with list_of_numbers[j - 1] "
   ]
  },
  {
   "cell_type": "code",
   "execution_count": 48,
   "metadata": {},
   "outputs": [
    {
     "name": "stdout",
     "output_type": "stream",
     "text": [
      "[20, 31, 5, 1, 591, 1351, 693]\n",
      "[1, 5, 20, 31, 591, 693, 1351]\n"
     ]
    }
   ],
   "source": [
    "def bubble_sort(list_of_numbers):\n",
    "    for i in range(len(list_of_numbers)): #run N times, where N is number of elements in a list\n",
    "        # Last i elements are already in place\n",
    "        # It starts at 1 so we can access the previous element\n",
    "        for j in range(1, len(list_of_numbers) - i): # N-i elements\n",
    "            if list_of_numbers[j - 1] > list_of_numbers[j]: #check if previous element is bigger than the current element\n",
    "                #Swap code from the instructors notes:\n",
    "                temp = list_of_numbers[j-1]\n",
    "                list_of_numbers[j-1] = list_of_numbers[j]\n",
    "                list_of_numbers[j] = temp\n",
    "\n",
    "    return list_of_numbers\n",
    "\n",
    "#Do not change code below this line\n",
    "unsorted_list = [20, 31, 5, 1, 591, 1351, 693]\n",
    "print(unsorted_list)\n",
    "print(bubble_sort(unsorted_list))"
   ]
  },
  {
   "cell_type": "code",
   "execution_count": 49,
   "metadata": {},
   "outputs": [
    {
     "name": "stdout",
     "output_type": "stream",
     "text": [
      "[20, 31, 5, 1, 591, 1351, 693]\n",
      "[1, 5, 20, 31, 591, 693, 1351]\n"
     ]
    }
   ],
   "source": [
    "def bubble_sort(list_of_numbers):\n",
    "    for i in range(len(list_of_numbers)): #run N times, where N is number of elements in a list\n",
    "        # Last i elements are already in place\n",
    "        # It starts at 1 so we can access the previous element\n",
    "        for j in range(1, len(list_of_numbers) - i): # N-i elements\n",
    "            if list_of_numbers[j - 1] > list_of_numbers[j]: #check if previous element is bigger than the current element\n",
    "                \n",
    "                #we can also just assign each of these tuples to each other, tuple packing if you will, rather than use the temp variable\n",
    "                list_of_numbers[j], list_of_numbers[j - 1] = list_of_numbers[j-1], list_of_numbers[j]\n",
    "\n",
    "    return list_of_numbers\n",
    "\n",
    "#Do not change code below this line\n",
    "unsorted_list = [20, 31, 5, 1, 591, 1351, 693]\n",
    "print(unsorted_list)\n",
    "print(bubble_sort(unsorted_list))"
   ]
  },
  {
   "cell_type": "markdown",
   "metadata": {},
   "source": [
    "## Insertion Sort Algorithm"
   ]
  },
  {
   "cell_type": "code",
   "execution_count": 50,
   "metadata": {},
   "outputs": [
    {
     "name": "stdout",
     "output_type": "stream",
     "text": [
      "[45, 16, 33, 4, 551, 76, 20]\n",
      "[4, 16, 20, 33, 45, 76, 551]\n"
     ]
    }
   ],
   "source": [
    "def insert_sort(list_of_numbers):\n",
    "    \n",
    "    for index in range(len(list_of_numbers)):\n",
    "\n",
    "        current_element = list_of_numbers[index] #Access the current element\n",
    "        position = index\n",
    "\n",
    "        #Check if a position is greater than zero AND the previous item is greater than the current element\n",
    "        while position > 0 and list_of_numbers[position - 1] > current_element:\n",
    "            list_of_numbers[position] = list_of_numbers[position - 1] #Set the value of the positioned element to the value of the previous element. We are doing this to make space for the new (inserted item)\n",
    "            position = position - 1 #Move position to one back\n",
    "\n",
    "        #Set the value of the final positioned item to be the value of the current_element\n",
    "        list_of_numbers[position] = current_element\n",
    "        \n",
    "    return list_of_numbers\n",
    "\n",
    "#Do not change code below this line\n",
    "list_of_numbers = [45,16,33,4,551,76,20]\n",
    "print(list_of_numbers)\n",
    "print(insert_sort(list_of_numbers))"
   ]
  },
  {
   "cell_type": "code",
   "execution_count": 52,
   "metadata": {},
   "outputs": [
    {
     "data": {
      "text/plain": [
       "[1, 5, 20, 31, 591, 693, 1351]"
      ]
     },
     "execution_count": 52,
     "metadata": {},
     "output_type": "execute_result"
    }
   ],
   "source": [
    "#this also sorts our last list very well\n",
    "insert_sort(unsorted_list)"
   ]
  },
  {
   "cell_type": "code",
   "execution_count": null,
   "metadata": {},
   "outputs": [],
   "source": []
  }
 ],
 "metadata": {
  "kernelspec": {
   "display_name": "Python 3",
   "language": "python",
   "name": "python3"
  },
  "language_info": {
   "codemirror_mode": {
    "name": "ipython",
    "version": 3
   },
   "file_extension": ".py",
   "mimetype": "text/x-python",
   "name": "python",
   "nbconvert_exporter": "python",
   "pygments_lexer": "ipython3",
   "version": "3.7.3"
  }
 },
 "nbformat": 4,
 "nbformat_minor": 4
}
