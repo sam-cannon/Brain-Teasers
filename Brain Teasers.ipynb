{
 "cells": [
  {
   "cell_type": "markdown",
   "metadata": {},
   "source": [
    "# Brain teasers and interview questions taken from Udemy data science interview prep course"
   ]
  },
  {
   "cell_type": "code",
   "execution_count": 1,
   "metadata": {},
   "outputs": [],
   "source": [
    "import numpy as np\n",
    "import pandas as pd"
   ]
  },
  {
   "cell_type": "markdown",
   "metadata": {},
   "source": [
    "# Brain teaser/interview question 1\n",
    "- You are given an array of integers, both positive and negative\n",
    "- your task is to write a program that can find the largest \"continuous sum\"\n",
    "- you just need to return the total sum amount, not the sequence\n",
    "\n",
    "    ## For Example:\n",
    "    - [7, 8, 9] the answer is 7 + 8 + 9 = 24\n",
    "    - [-1, 7, 8, 9, -10] the answer is 7 + 8 + 9 = 24\n",
    "    - [2, 3, -10, 9, 2] the answer is 9 + 2 = 11\n",
    "    - [2, 11, -10, 9, 2] tricky here, we can offset the \"cost\" of the -10 by including the 11 to its left, so we are going to include all the numbers\n",
    "        - so 2 + 11 + -10 + 9 + 2 = 14\n",
    "    - [12, -10, 7, -8, 4, 6] the answer here is just 12, since this is the only number that it makes sense to include \n",
    "\n",
    "\n",
    "## Intuition Behind the Answer\n",
    "- the algorithm is, we start summing up the numbers and store them in a current sum variable__\n",
    "- after adding each element, we check whether the current sum is larger than the maximum sum encountered thus far\n",
    "    - if the current sum is larger than the maximum sum then we update the maximum sum variable\n",
    "- as long as the current sum is positive, we keep adding the numbers\n",
    "- when the current sum becomes negative, we start with a new current sum\n",
    "    - becuase a negative current sum will only decrease the sum of a future sequence\n",
    "- we don't reset the current sum to 0 becuase the array can contain all negative numbers \n",
    "    - then the result would be the largest negative number!"
   ]
  },
  {
   "cell_type": "code",
   "execution_count": 11,
   "metadata": {},
   "outputs": [],
   "source": [
    "def why_are_you_asking_me_this(x):\n",
    "    \n",
    "    if len(x) == 0:                     #checking for edge cases\n",
    "        return 0\n",
    "    \n",
    "    max_sum = x[0]\n",
    "    current_sum = x[0]\n",
    "    \n",
    "    for num in x[1:]:\n",
    "      \n",
    "        current_sum = max(current_sum + num, num)\n",
    "        \n",
    "        max_sum = max(current_sum, max_sum)\n",
    "    print(max_sum)"
   ]
  },
  {
   "cell_type": "code",
   "execution_count": 12,
   "metadata": {},
   "outputs": [
    {
     "name": "stdout",
     "output_type": "stream",
     "text": [
      "1101\n"
     ]
    }
   ],
   "source": [
    "why_are_you_asking_me_this([1, -10, 2, 3, -100, 101, 1000, -30])"
   ]
  },
  {
   "cell_type": "markdown",
   "metadata": {},
   "source": [
    "# Brain teaser/Interview question 2\n",
    "- You are given a string in the form 'AAAABBBBCCCCCDDEEEE'\n",
    "- your task is to compress this string to read 'A4B4C5D2E4'\n",
    "- For this problem, you can falsely 'compress' strings of single or double letters\n",
    "    - meaning that if you had 'AAB' its ok to return 'A2B1' even though it takes up more space\n",
    "- The program should also be case sensitive, so that 'AAaa' returns 'A2a2'\n",
    "\n",
    "## Intuition behind the answer\n",
    "- strategy is to go along the string, keeping a running count of the letters\n",
    "- once we detect a change in a letter, we basically stop and 'compress' that series of like-letters with the letter and its count (e.g. 'A2')"
   ]
  },
  {
   "cell_type": "code",
   "execution_count": 48,
   "metadata": {},
   "outputs": [],
   "source": [
    "def please_ask_me_about_scikitlearn(s):\n",
    "    \n",
    "    run = \"\"\n",
    "    length = len(s)\n",
    "    \n",
    "    if length == 0:\n",
    "        return \"\"\n",
    "    \n",
    "    # 'A' --> 'A1'\n",
    "    if length == 1:\n",
    "        return s + \"1\"\n",
    "    \n",
    "    cnt = 1\n",
    "    i = 1\n",
    "    \n",
    "    while i < length:\n",
    "        \n",
    "        if s[i] == s[i - 1]:\n",
    "            cnt +=1\n",
    "            \n",
    "        else:\n",
    "            run = run + s[i - 1] + str(cnt)\n",
    "            cnt = 1\n",
    "            \n",
    "        i += 1\n",
    "        \n",
    "    run = run + s[i - 1] + str(cnt)\n",
    "    \n",
    "    return run     "
   ]
  },
  {
   "cell_type": "code",
   "execution_count": 49,
   "metadata": {},
   "outputs": [
    {
     "data": {
      "text/plain": [
       "'a1m1t1'"
      ]
     },
     "execution_count": 49,
     "metadata": {},
     "output_type": "execute_result"
    }
   ],
   "source": [
    "please_ask_me_about_scikitlearn('amt')"
   ]
  },
  {
   "cell_type": "markdown",
   "metadata": {},
   "source": [
    "# Brain teaser/Interview question 3 --- Popular question for some reason\n",
    "- you are given an array of historical stock prices per day, for example [6, 13, 2, 10, 3, 5]\n",
    "- write an algorithm that figures out what days (index of array) you could buy and sell the stock for maxiumum profit\n",
    "    - here the algorithm should say that buying at position 2 and selling at 10 would be the best\n",
    "    \n",
    "## Strategy behind the solution\n",
    "\n",
    "- we cannot just find the max and min and subtract the two becuase the max might come before the min\n",
    "- don't just add them all together sequentially, there is a better solution and the interviewers won't be impressed\n",
    "- here we are going to use a 'greedy' algorithm approach, iterating through the stock prices and keeping track of the max\n",
    "- so, for every price, we are going to keep track of the lowest price and then check to see if we can get a better profit than the current max"
   ]
  },
  {
   "cell_type": "code",
   "execution_count": 54,
   "metadata": {},
   "outputs": [],
   "source": [
    "def profit(stock_prices):\n",
    "    \n",
    "    if len(stock_prices) < 2:                     #dealing with edge cases, interviewers like when you consider this!\n",
    "        return \"hey I need more prices\"\n",
    "    \n",
    "    min_stock_price = stock_prices[0]\n",
    "    max_profit = 0\n",
    "    \n",
    "    for price in stock_prices:\n",
    "        \n",
    "        min_stock_price = min(min_stock_price, price)\n",
    "        \n",
    "        comparison_profit = price - min_stock_price\n",
    "        \n",
    "        max_profit = max(max_profit, comparison_profit)\n",
    "        \n",
    "    return max_profit"
   ]
  },
  {
   "cell_type": "code",
   "execution_count": 55,
   "metadata": {},
   "outputs": [
    {
     "data": {
      "text/plain": [
       "'hey I need more prices'"
      ]
     },
     "execution_count": 55,
     "metadata": {},
     "output_type": "execute_result"
    }
   ],
   "source": [
    "profit([6])"
   ]
  },
  {
   "cell_type": "markdown",
   "metadata": {},
   "source": [
    "# Brain teaser/Interview question 4\n",
    "- consider an array of non-negative integers\n",
    "- a second array is formed by shuffling the elements of the first array and deleting a random element\n",
    "- given these two arrays, find which element is missing in the second array\n",
    "- for example\n",
    "    - given [1, 2, 3, 4, 5] and the second array of [1, 3, 4, 5] the missing value is 2\n",
    "    \n",
    "## Intuition behind solution\n",
    "\n",
    "- since we know all the numbers are non-negative, we can just sum up both arrays, check the difference, then you have your answer\n",
    "- another approach is to sort both arrays and then just go through them sequentially until you don't have a match"
   ]
  },
  {
   "cell_type": "code",
   "execution_count": 69,
   "metadata": {},
   "outputs": [],
   "source": [
    "def print_missing(arr1, arr2):\n",
    "    \n",
    "    arr1.sort()\n",
    "    arr2.sort()\n",
    "    \n",
    "    for num1, num2 in zip(arr1, arr2):\n",
    "        if num1 != num2:\n",
    "            return num1\n",
    "        \n",
    "    return arr1[-1]"
   ]
  },
  {
   "cell_type": "code",
   "execution_count": 72,
   "metadata": {},
   "outputs": [
    {
     "data": {
      "text/plain": [
       "3"
      ]
     },
     "execution_count": 72,
     "metadata": {},
     "output_type": "execute_result"
    }
   ],
   "source": [
    "print_missing([1, 2, 3], [1, 2])"
   ]
  },
  {
   "cell_type": "code",
   "execution_count": 73,
   "metadata": {},
   "outputs": [],
   "source": [
    "def finder(arr1, arr2):\n",
    "    \n",
    "    return sum(arr1) - sum(arr2)"
   ]
  },
  {
   "cell_type": "code",
   "execution_count": 74,
   "metadata": {},
   "outputs": [
    {
     "data": {
      "text/plain": [
       "4"
      ]
     },
     "execution_count": 74,
     "metadata": {},
     "output_type": "execute_result"
    }
   ],
   "source": [
    "finder([1, 2, 3, 4], [1, 2, 3])"
   ]
  }
 ],
 "metadata": {
  "kernelspec": {
   "display_name": "Python 3",
   "language": "python",
   "name": "python3"
  },
  "language_info": {
   "codemirror_mode": {
    "name": "ipython",
    "version": 3
   },
   "file_extension": ".py",
   "mimetype": "text/x-python",
   "name": "python",
   "nbconvert_exporter": "python",
   "pygments_lexer": "ipython3",
   "version": "3.7.3"
  }
 },
 "nbformat": 4,
 "nbformat_minor": 4
}
